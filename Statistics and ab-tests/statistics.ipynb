{
 "cells": [
  {
   "cell_type": "code",
   "execution_count": 2,
   "metadata": {},
   "outputs": [
    {
     "name": "stdout",
     "output_type": "stream",
     "text": [
      "-0.06398210298605855\n",
      "Необходимый размер выборки для каждой группы: 3835\n"
     ]
    }
   ],
   "source": [
    "import statsmodels.stats.api as sms\n",
    "\n",
    "def sample_size_calculator(baseline_rate, minimum_effect, power=0.8, alpha=0.05):\n",
    "\n",
    "    effect_size = sms.proportion_effectsize(baseline_rate, baseline_rate + minimum_effect)\n",
    "    print(effect_size)\n",
    "    sample_size = sms.NormalIndPower().solve_power(effect_size, power=power, alpha=alpha, ratio=1)\n",
    "    return sample_size\n",
    "\n",
    "baseline_rate = 0.10  # например, 10% конверсия в контрольной группе\n",
    "minimum_effect = 0.02 # желаемое изменение (например, увеличение на 2%)\n",
    "\n",
    "sample_size = sample_size_calculator(baseline_rate, minimum_effect)\n",
    "print(f'Необходимый размер выборки для каждой группы: {sample_size:.0f}')"
   ]
  },
  {
   "cell_type": "code",
   "execution_count": 12,
   "metadata": {},
   "outputs": [
    {
     "name": "stdout",
     "output_type": "stream",
     "text": [
      "[array([  176, 21000]), array([  230, 21000])]\n",
      "Хи-квадрат p-value:  0.007650500755043563\n",
      "Доверительный интервал изменения (lift):  (1.0488416204534785, 1.5581467750417468)\n",
      "Вариант B лучше.\n"
     ]
    }
   ],
   "source": [
    "import numpy as np\n",
    "import scipy.stats as stats\n",
    "\n",
    "# Загрузите данные в переменные\n",
    "group_A = np.array([176, 21000])\n",
    "group_B = np.array([230, 21000])\n",
    "\n",
    "print([group_A, group_B])\n",
    "# Запустите тест\n",
    "chi2, p, dof, ex = stats.chi2_contingency([group_A, group_B], correction=False)\n",
    "\n",
    "# Рассчитайте lift и его доверительный интервал\n",
    "p1 = group_B[0] / group_B.sum()\n",
    "p2 = group_A[0] / group_A.sum()\n",
    "\n",
    "# Расчет lift\n",
    "lift = p1 / p2\n",
    "\n",
    "# Расчет стандартной ошибки для lift\n",
    "se_p1 = np.sqrt(p1 * (1 - p1) / group_B.sum())\n",
    "se_p2 = np.sqrt(p2 * (1 - p2) / group_A.sum())\n",
    "std_error = lift * np.sqrt((se_p1 / p1) ** 2 + (se_p2 / p2) ** 2)\n",
    "\n",
    "# Доверительный интервал\n",
    "ci = stats.norm.interval(0.95, loc=lift, scale=std_error)\n",
    "\n",
    "# Выводим результаты\n",
    "print(\"Хи-квадрат p-value: \", p)\n",
    "print(\"Доверительный интервал изменения (lift): \", ci)\n",
    "\n",
    "# Проверяем есть ли статистически значимое изменение\n",
    "if p < 0.05 and ci[0] > 1:\n",
    "    print(\"Вариант B лучше.\")\n",
    "elif p < 0.05 and ci[1] < 1:\n",
    "    print(\"Вариант A лучше.\")\n",
    "else:\n",
    "    print(\"Статистически значимой разницы нет.\")"
   ]
  },
  {
   "cell_type": "code",
   "execution_count": 15,
   "metadata": {},
   "outputs": [
    {
     "data": {
      "text/plain": [
       "0.008655478161175739"
      ]
     },
     "execution_count": 15,
     "metadata": {},
     "output_type": "execute_result"
    }
   ],
   "source": [
    "sts = stats.chi2_contingency(np.array([[176, 230], [21035, 21018]]))\n",
    "sts.pvalue"
   ]
  },
  {
   "cell_type": "code",
   "execution_count": 19,
   "metadata": {},
   "outputs": [
    {
     "data": {
      "text/plain": [
       "0.008655478161175739"
      ]
     },
     "execution_count": 19,
     "metadata": {},
     "output_type": "execute_result"
    }
   ],
   "source": [
    "sts = stats.chi2_contingency(np.array([[21018, 21035], [230, 176]]))\n",
    "sts.pvalue"
   ]
  },
  {
   "cell_type": "code",
   "execution_count": null,
   "metadata": {},
   "outputs": [],
   "source": []
  }
 ],
 "metadata": {
  "kernelspec": {
   "display_name": "Python 3",
   "language": "python",
   "name": "python3"
  },
  "language_info": {
   "codemirror_mode": {
    "name": "ipython",
    "version": 3
   },
   "file_extension": ".py",
   "mimetype": "text/x-python",
   "name": "python",
   "nbconvert_exporter": "python",
   "pygments_lexer": "ipython3",
   "version": "3.12.1"
  }
 },
 "nbformat": 4,
 "nbformat_minor": 2
}
