{
 "cells": [
  {
   "cell_type": "code",
   "execution_count": 1,
   "metadata": {},
   "outputs": [
    {
     "name": "stdout",
     "output_type": "stream",
     "text": [
      "0.029 0.041\n",
      "0.002\n",
      "34.0 62.0\n"
     ]
    }
   ],
   "source": [
    "import numpy as np\n",
    "a = np.random.binomial(1, 0.03, 1000)\n",
    "b = np.random.binomial(1, 0.04, 1000)\n",
    "print(a.mean(), b.mean())\n",
    "\n",
    "n = 1000\n",
    "result = []\n",
    "for i in range(n):\n",
    "    a = np.random.binomial(1, 0.03, 1245)\n",
    "    b = np.random.binomial(1, 0.05, 1245)\n",
    "    if a.mean()> b.mean():\n",
    "        result.append([a.mean(), b.mean()])\n",
    "print(len(result)/n)\n",
    "print(np.random.binomial(1, 0.03, 1245).mean() * 1245,\\\n",
    "      np.random.binomial(1, 0.05, 1245).mean() * 1245)"
   ]
  },
  {
   "cell_type": "code",
   "execution_count": 2,
   "metadata": {},
   "outputs": [
    {
     "data": {
      "text/plain": [
       "(34, 73)"
      ]
     },
     "execution_count": 2,
     "metadata": {},
     "output_type": "execute_result"
    }
   ],
   "source": [
    "a = np.random.binomial(1245, 0.03)\n",
    "b = np.random.binomial(1245, 0.05)\n",
    "a, b"
   ]
  },
  {
   "cell_type": "code",
   "execution_count": 5,
   "metadata": {},
   "outputs": [],
   "source": [
    "from statsmodels.stats.proportion import proportions_ztest\n",
    "def z_test(conv_a, conv_b, size_a, size_b, significance=0.05):\n",
    "    _, p_value = proportions_ztest([conv_a, conv_b], [size_a, size_b], alternative='two-sided')\n",
    "    return p_value < significance"
   ]
  },
  {
   "cell_type": "code",
   "execution_count": 6,
   "metadata": {},
   "outputs": [
    {
     "data": {
      "text/plain": [
       "True"
      ]
     },
     "execution_count": 6,
     "metadata": {},
     "output_type": "execute_result"
    }
   ],
   "source": [
    "z_test(44, 78, 1484, 1484)"
   ]
  }
 ],
 "metadata": {
  "kernelspec": {
   "display_name": "Python 3",
   "language": "python",
   "name": "python3"
  },
  "language_info": {
   "codemirror_mode": {
    "name": "ipython",
    "version": 3
   },
   "file_extension": ".py",
   "mimetype": "text/x-python",
   "name": "python",
   "nbconvert_exporter": "python",
   "pygments_lexer": "ipython3",
   "version": "3.12.1"
  }
 },
 "nbformat": 4,
 "nbformat_minor": 2
}
